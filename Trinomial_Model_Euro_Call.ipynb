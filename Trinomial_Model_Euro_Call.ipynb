{
 "cells": [
  {
   "cell_type": "markdown",
   "id": "ad75ede1",
   "metadata": {},
   "source": [
    "# *European Call Option In Python*"
   ]
  },
  {
   "cell_type": "markdown",
   "id": "d984c4c9",
   "metadata": {},
   "source": [
    "*This is an example of the trinomial tree in Python that I did for my Financial Derivatives Course. It was made with the help of QuantPy's tutorial for the binomial tree, which is available here: https://github.com/TheQuantPy/youtube-tutorials/blob/8e64e19629cee840928b51baf4660e5c777e87e7/2021/003%20Jul-Sep/2021-07-06%20Binomial%20Option%20Pricing%20Model%20_%20Theory%20_%20Implementation%20in%20Python.ipynb*\n",
    "\n",
    "*You can change the parameters to your liking.*"
   ]
  },
  {
   "cell_type": "code",
   "execution_count": 1,
   "id": "e60a435a",
   "metadata": {},
   "outputs": [],
   "source": [
    "import numpy as np"
   ]
  },
  {
   "cell_type": "code",
   "execution_count": 2,
   "id": "7e408523",
   "metadata": {},
   "outputs": [],
   "source": [
    "#We set our parameters\n",
    "S0 = 100 #initial stock price\n",
    "K = 90 #strike price\n",
    "r = 0.20 #risk-free rate (you will see why we chose this rate below)\n",
    "N = 3 #time steps\n",
    "u = 1 #up factor\n",
    "d = -u #down factor\n",
    "Pm = 0 #middle risk neutral probability"
   ]
  },
  {
   "cell_type": "code",
   "execution_count": 3,
   "id": "3b426350",
   "metadata": {},
   "outputs": [
    {
     "name": "stdout",
     "output_type": "stream",
     "text": [
      "Risk neutral probabilities:\n",
      "UP 0.3631392316503326\n",
      "MIDDLE 0\n",
      "DOWN 0.6368607683496674\n",
      "4.978706836786395\n",
      "[   4.97870684   13.53352832   36.78794412  100.          271.82818285\n",
      "  738.90560989 2008.55369232]  possible asset prices at maturity\n",
      "[   0.            0.            0.           10.          181.82818285\n",
      "  648.90560989 1918.55369232] possible payoffs at maturity\n",
      "[  0.           0.           0.          10.         181.82818285]\n",
      "[  0.           2.97313257   0.          10.         181.82818285]\n",
      "[  0.           2.97313257  54.05992918  10.         181.82818285]\n",
      "[  0.           2.97313257  54.05992918 198.14241507 181.82818285]\n",
      "[  0.           2.97313257  54.05992918 198.14241507 665.21984212]\n",
      "[16.0727336   2.97313257 54.05992918]\n",
      "[16.0727336  60.46061003 54.05992918]\n",
      "[ 16.0727336   60.46061003 225.96647055]\n",
      "[75.56343176]\n",
      "75.56343175573598 price at t=0\n"
     ]
    }
   ],
   "source": [
    "disc = np.exp(-r)\n",
    "Pu = ((np.exp(r)-np.exp(d))/(np.exp(u)-np.exp(d)))-Pm*((1-np.exp(d))/(np.exp(u)-np.exp(d)))\n",
    "Pd = 1 - Pu - Pm\n",
    "print(\"Risk neutral probabilities:\")\n",
    "print(\"UP\", Pu)\n",
    "print(\"MIDDLE\", Pm)\n",
    "print(\"DOWN\", Pd)\n",
    "#create possible asset prices at maturity\n",
    "S = np.zeros(2*N+1) #we create an array for asset prices at maturity\n",
    "S[0] = S0*np.exp(d*N)\n",
    "print(S[0])\n",
    "for j in range(1, 2*N+1):\n",
    "    S[j] = S[j-1]*np.exp(u) #stock price at up movement\n",
    "\n",
    "print(S, \" possible asset prices at maturity\")\n",
    "\n",
    "#create option values at maturity\n",
    "C = np.zeros(2*N+1)\n",
    "for j in range(0, 2*N+1):\n",
    "    C[j] = max(0, S[j]-K) #the payoff at each node will be the difference between the stock price and strike price, or 0 if we're below the strike price\n",
    "print(C, \"possible payoffs at maturity\")\n",
    "\n",
    "#step backwards through tree, until we get to t=0\n",
    "for i in np.arange(N, 0, -1):\n",
    "        for j in range(0, 2*i-1):\n",
    "                C[j] = disc*(Pu*C[j+2] + Pm*C[j+1] + Pd*C[j])\n",
    "                print(C[:2*i-1])\n",
    "print(C[0], \"price at t=0\")"
   ]
  },
  {
   "cell_type": "markdown",
   "id": "439f7b9f",
   "metadata": {},
   "source": [
    "**Result:** *The price of the European Option with K=90 should be $68,19*"
   ]
  },
  {
   "cell_type": "markdown",
   "id": "cd6007ab",
   "metadata": {},
   "source": [
    "**Now we do the binomial model**"
   ]
  },
  {
   "cell_type": "code",
   "execution_count": 4,
   "id": "9ac74c23",
   "metadata": {},
   "outputs": [
    {
     "name": "stdout",
     "output_type": "stream",
     "text": [
      "75.56343175573603\n"
     ]
    }
   ],
   "source": [
    "S0 = 100 #initial stock price\n",
    "K = 90 #strike price\n",
    "r = 0.20 #risk-free rate (you will see why we chose this rate below)\n",
    "N = 3 #time steps\n",
    "u = np.exp(1) #up factor\n",
    "d = 1/u #down factor\n",
    "\n",
    "\n",
    "q = (np.exp(r) - d) / (u-d)\n",
    "disc = np.exp(-r)\n",
    "\n",
    " # initialise asset prices at maturity - Time step N\n",
    "S = np.zeros(N+1)\n",
    "S[0] = S0*d**N\n",
    "for j in range(1,N+1):\n",
    "    S[j] = S[j-1]*u/d\n",
    "\n",
    "# initialise option values at maturity\n",
    "C = np.zeros(N+1)\n",
    "for j in range(0,N+1):\n",
    "    C[j] = max(0, S[j]-K)\n",
    "\n",
    "# step backwards through tree\n",
    "for i in np.arange(N,0,-1):\n",
    "    for j in range(0,i):\n",
    "        C[j] = disc * ( q*C[j+1] + (1-q)*C[j] )\n",
    "\n",
    "print(C[0])"
   ]
  },
  {
   "cell_type": "markdown",
   "id": "44d3e134",
   "metadata": {},
   "source": [
    "*Using the trinoimal model and setting the middle movement to 0 effectively gives us the binomial model and the same price as in the actual binomial model.*"
   ]
  }
 ],
 "metadata": {
  "kernelspec": {
   "display_name": "Python 3 (ipykernel)",
   "language": "python",
   "name": "python3"
  },
  "language_info": {
   "codemirror_mode": {
    "name": "ipython",
    "version": 3
   },
   "file_extension": ".py",
   "mimetype": "text/x-python",
   "name": "python",
   "nbconvert_exporter": "python",
   "pygments_lexer": "ipython3",
   "version": "3.9.6"
  }
 },
 "nbformat": 4,
 "nbformat_minor": 5
}
