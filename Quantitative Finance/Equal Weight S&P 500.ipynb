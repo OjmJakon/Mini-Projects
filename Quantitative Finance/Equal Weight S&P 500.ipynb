{
 "cells": [
  {
   "cell_type": "markdown",
   "metadata": {},
   "source": [
    "This is a project following the video tutorial named \"Algorhitmic Trading Using Python - Full Course\"\n",
    "\n",
    "You can access it here: https://www.youtube.com/watch?v=xfzGZB4HhEE&t=3272s"
   ]
  },
  {
   "cell_type": "markdown",
   "metadata": {},
   "source": [
    "# Equal-Weight S&P 500 Index Fund\n",
    "\n",
    "## Introduction & Library Imports\n",
    "\n",
    "The S&P 500 is the world's most popular stock market index. The largest fund that is benchmarked to this index is the SPDR® S&P 500® ETF Trust. It has more than US$250 billion of assets under management.\n",
    "\n",
    "The goal of this section of the course is to create a Python script that will accept the value of your portfolio and tell you how many shares of each S&P 500 constituent you should purchase to get an equal-weight version of the index fund.\n",
    "\n",
    "## Library Imports\n",
    "\n",
    "The first thing we need to do is import the open-source software libraries that we'll be using in this tutorial."
   ]
  },
  {
   "cell_type": "code",
   "execution_count": 20,
   "metadata": {},
   "outputs": [],
   "source": [
    "import numpy as np\n",
    "import yfinance as yf\n",
    "import pandas as pd\n",
    "import requests\n",
    "import xlsxwriter\n",
    "import math"
   ]
  },
  {
   "cell_type": "markdown",
   "metadata": {},
   "source": [
    "## Importing Our List of Stocks\n",
    "\n",
    "The next thing we need to do is import the constituents of the S&P 500.\n",
    "\n",
    "These constituents change over time, so in an ideal world you would connect directly to the index provider (Standard & Poor's) and pull their real-time constituents on a regular basis.\n",
    "\n",
    "Paying for access to the index provider's API is outside of the scope of this course. \n",
    "\n",
    "There's a static version of the S&P 500 constituents available here. [Click this link to download them now](https://drive.google.com/file/d/1ZJSpbY69DVckVZlO9cC6KkgfSufybcHN/view?usp=sharing). Move this file into the `starter-files` folder so it can be accessed by other files in that directory.\n",
    "\n",
    "Now it's time to import these stocks to our Jupyter Notebook file."
   ]
  },
  {
   "cell_type": "code",
   "execution_count": 21,
   "metadata": {},
   "outputs": [
    {
     "data": {
      "text/html": [
       "<div>\n",
       "<style scoped>\n",
       "    .dataframe tbody tr th:only-of-type {\n",
       "        vertical-align: middle;\n",
       "    }\n",
       "\n",
       "    .dataframe tbody tr th {\n",
       "        vertical-align: top;\n",
       "    }\n",
       "\n",
       "    .dataframe thead th {\n",
       "        text-align: right;\n",
       "    }\n",
       "</style>\n",
       "<table border=\"1\" class=\"dataframe\">\n",
       "  <thead>\n",
       "    <tr style=\"text-align: right;\">\n",
       "      <th></th>\n",
       "      <th>Ticker</th>\n",
       "    </tr>\n",
       "  </thead>\n",
       "  <tbody>\n",
       "    <tr>\n",
       "      <th>0</th>\n",
       "      <td>A</td>\n",
       "    </tr>\n",
       "    <tr>\n",
       "      <th>1</th>\n",
       "      <td>AAL</td>\n",
       "    </tr>\n",
       "    <tr>\n",
       "      <th>2</th>\n",
       "      <td>AAP</td>\n",
       "    </tr>\n",
       "    <tr>\n",
       "      <th>3</th>\n",
       "      <td>AAPL</td>\n",
       "    </tr>\n",
       "    <tr>\n",
       "      <th>4</th>\n",
       "      <td>ABBV</td>\n",
       "    </tr>\n",
       "    <tr>\n",
       "      <th>...</th>\n",
       "      <td>...</td>\n",
       "    </tr>\n",
       "    <tr>\n",
       "      <th>500</th>\n",
       "      <td>YUM</td>\n",
       "    </tr>\n",
       "    <tr>\n",
       "      <th>501</th>\n",
       "      <td>ZBH</td>\n",
       "    </tr>\n",
       "    <tr>\n",
       "      <th>502</th>\n",
       "      <td>ZBRA</td>\n",
       "    </tr>\n",
       "    <tr>\n",
       "      <th>503</th>\n",
       "      <td>ZION</td>\n",
       "    </tr>\n",
       "    <tr>\n",
       "      <th>504</th>\n",
       "      <td>ZTS</td>\n",
       "    </tr>\n",
       "  </tbody>\n",
       "</table>\n",
       "<p>505 rows × 1 columns</p>\n",
       "</div>"
      ],
      "text/plain": [
       "    Ticker\n",
       "0        A\n",
       "1      AAL\n",
       "2      AAP\n",
       "3     AAPL\n",
       "4     ABBV\n",
       "..     ...\n",
       "500    YUM\n",
       "501    ZBH\n",
       "502   ZBRA\n",
       "503   ZION\n",
       "504    ZTS\n",
       "\n",
       "[505 rows x 1 columns]"
      ]
     },
     "execution_count": 21,
     "metadata": {},
     "output_type": "execute_result"
    }
   ],
   "source": [
    "stocks = pd.read_csv(\"SP 500 Stocks.csv\")\n",
    "stocks"
   ]
  },
  {
   "cell_type": "code",
   "execution_count": 22,
   "metadata": {},
   "outputs": [],
   "source": [
    "stocks = stocks[\"Ticker\"].tolist()"
   ]
  },
  {
   "cell_type": "code",
   "execution_count": 23,
   "metadata": {},
   "outputs": [
    {
     "name": "stderr",
     "output_type": "stream",
     "text": [
      "[*********************100%***********************]  505 of 505 completed\n",
      "\n",
      "505 Failed downloads:\n",
      "['UAA', 'AMZN', 'BAC', 'SLG', 'MET', 'MCK', 'CAT', 'FANG', 'SRE', 'PNR', 'WHR', 'IFF', 'EXPE', 'MDLZ', 'KLAC', 'FMC', 'BK', 'VNO', 'FITB', 'ICE', 'BKNG', 'AME', 'AMT', 'GRMN', 'CF', 'HUM', 'JKHY', 'DG', 'MAR', 'STX', 'ED', 'AEE', 'WFC', 'CMS', 'ADI', 'MTB', 'NTRS', 'ILMN', 'CPRT', 'STZ', 'GILD', 'MCO', 'CINF', 'TFX', 'SWK', 'SIVB', 'TPR', 'TDG', 'ALK', 'FAST', 'EXR', 'CNP', 'CAG', 'PPL', 'ROK', 'CTSH', 'ZBH', 'WAB', 'PEG', 'OMC', 'DTE', 'AMCR', 'NVDA', 'REG', 'TSN', 'JCI', 'ATO', 'RL', 'SNPS', 'ESS', 'ROL', 'GWW', 'NOC', 'XEL', 'KHC', 'FTV', 'J', 'PKG', 'LH', 'DD', 'VZ', 'CFG', 'KEYS', 'USB', 'WELL', 'EMR', 'RHI', 'KMX', 'GD', 'GPS', 'IP', 'EXPD', 'INCY', 'XYL', 'SJM', 'LUV', 'CMCSA', 'HIG', 'MMM', 'AVY', 'LYB', 'MCHP', 'ROP', 'AJG', 'BMY', 'DHI', 'CRM', 'RF', 'MSI', 'EA', 'DIS', 'PSX', 'TMO', 'TTWO', 'FTNT', 'GOOGL', 'DVA', 'HII', 'BBY', 'EOG', 'CMA', 'NWS', 'HBI', 'HCA', 'NOV', 'GPC', 'WM', 'LVS', 'SEE', 'FISV', 'MKTX', 'ADP', 'BA', 'MCD', 'GL', 'PRGO', 'K', 'HST', 'TRV', 'HLT', 'EQR', 'AES', 'AZO', 'MNST', 'EW', 'SBAC', 'STT', 'LHX', 'WDC', 'SPGI', 'VLO', 'XRAY', 'LNT', 'WY', 'AXP', 'AAPL', 'PAYC', 'ABBV', 'DXC', 'EVRG', 'KEY', 'MTD', 'PCAR', 'AAP', 'AIZ', 'ROST', 'CVX', 'RTX', 'COTY', 'WEC', 'CTVA', 'ADBE', 'FOX', 'VRSK', 'BEN', 'NUE', 'BDX', 'MPC', 'SWKS', 'KMB', 'PH', 'HRL', 'CARR', 'LEG', 'CHTR', 'SLB', 'ES', 'BAX', 'PFE', 'IEX', 'NFLX', 'MGM', 'UAL', 'FLS', 'DGX', 'ORCL', 'ANSS', 'NWSA', 'EMN', 'CDW', 'COF', 'D', 'DHR', 'AMP', 'MAS', 'HD', 'MSCI', 'NCLH', 'IRM', 'EL', 'NEE', 'SCHW', 'HOLX', 'AWK', 'ALL', 'DFS', 'CVS', 'EBAY', 'XRX', 'ODFL', 'WRB', 'PFG', 'DRI', 'AEP', 'PYPL', 'AOS', 'CMI', 'MO', 'QRVO', 'IPGP', 'SYY', 'FRT', 'MKC', 'CSCO', 'STE', 'MAA', 'L', 'BKR', 'COP', 'HBAN', 'TXT', 'CSX', 'SO', 'KSS', 'JNPR', 'SHW', 'IQV', 'JPM', 'GIS', 'O', 'LB', 'CMG', 'INTU', 'EFX', 'UPS', 'PGR', 'MMC', 'ZBRA', 'VRSN', 'TYL', 'UHS', 'GLW', 'UA', 'EIX', 'JNJ', 'KO', 'DOW', 'LYV', 'FCX', 'TSCO', 'APD', 'WYNN', 'APA', 'AMGN', 'IDXX', 'CB', 'CBOE', 'LIN', 'ZION', 'BLK', 'GPN', 'PVH', 'PPG', 'SNA', 'TAP', 'LOW', 'REGN', 'VRTX', 'NKE', 'RCL', 'NSC', 'TXN', 'MA', 'UDR', 'INTC', 'JBHT', 'MRO', 'HSIC', 'TT', 'ISRG', 'MLM', 'PHM', 'CPB', 'UNP', 'ZTS', 'ABT', 'SYF', 'PSA', 'TMUS', 'KMI', 'RJF', 'DPZ', 'CCI', 'DVN', 'CAH', 'FFIV', 'MDT', 'BXP', 'BWA', 'DAL', 'LW', 'FDX', 'DXCM', 'CME', 'ADM', 'VFC', 'AON', 'ECL', 'ULTA', 'IT', 'MSFT', 'HRB', 'DLTR', 'BIIB', 'ETN', 'NEM', 'WBA', 'DLR', 'AMAT', 'GM', 'DOV', 'CHD', 'AKAM', 'PEP', 'LNC', 'NI', 'VMC', 'HON', 'RSG', 'OXY', 'TROW', 'CTAS', 'AVB', 'WST', 'SBUX', 'HPQ', 'ALLE', 'LDOS', 'TJX', 'C', 'EQIX', 'TGT', 'IBM', 'TFC', 'V', 'HAS', 'OKE', 'NVR', 'PLD', 'AMD', 'MHK', 'CNC', 'URI', 'QCOM', 'HWM', 'TDY', 'FIS', 'CE', 'FE', 'ALB', 'PG', 'AFL', 'COST', 'IPG', 'HES', 'GE', 'EXC', 'PAYX', 'YUM', 'NOW', 'BF.B', 'FTI', 'AAL', 'COO', 'MOS', 'WMB', 'OTIS', 'IR', 'CBRE', 'RMD', 'MS', 'IVZ', 'AVGO', 'ADSK', 'ACN', 'SYK', 'NTAP', 'APH', 'DUK', 'NWL', 'ALGN', 'PM', 'ORLY', 'WU', 'MRK', 'PNC', 'KIM', 'APTV', 'LKQ', 'FOXA', 'LEN', 'PRU', 'WMT', 'AIV', 'LRCX', 'ARE', 'UNM', 'CCL', 'NRG', 'HAL', 'PNW', 'CHRW', 'CI', 'CL', 'BIO', 'A', 'VTR', 'LMT', 'KR', 'ETR', 'WAT', 'CDNS', 'BSX', 'PWR', 'BR', 'HSY', 'AIG', 'GOOG', 'TEL', 'SPG', 'XOM', 'GS', 'LLY', 'DE', 'ITW', 'HPE', 'NDAQ', 'MU', 'T', 'UNH', 'ANET', 'CLX']: YFPricesMissingError('$%ticker%: possibly delisted; no price data found  (1d 2024-09-22 -> 2024-09-22)')\n",
      "['WLTW', 'NBL', 'HFC', 'DISCK', 'ALXN', 'BRK.B', 'BLL', 'VAR', 'CTL', 'PKI', 'PBCT', 'CERN', 'RE', 'ABMD', 'WRK', 'KSU', 'CTXS', 'ABC', 'FB', 'ANTM', 'ETFC', 'FLT', 'FBHS', 'ATVI', 'DISCA', 'DISH', 'MYL', 'NLOK', 'MXIM', 'CXO', 'TWTR', 'INFO', 'TIF', 'PEAK', 'DRE', 'FRC', 'FLIR', 'XLNX', 'PXD', 'NLSN', 'VIAC', 'COG']: YFTzMissingError('$%ticker%: possibly delisted; no timezone found')\n",
      "['F']: Y%ticker%PricesMissingError('$%ticker%: possibly delisted; no price data found  (1d 2024-09-22 -> 2024-09-22)')\n"
     ]
    }
   ],
   "source": [
    "data = yf.download(stocks, start=\"2024-09-22\", end=\"2024-09-22\")"
   ]
  },
  {
   "cell_type": "markdown",
   "metadata": {},
   "source": [
    "Since we have some data that failed to download, we should drop it out of our analysis."
   ]
  },
  {
   "cell_type": "code",
   "execution_count": 24,
   "metadata": {},
   "outputs": [
    {
     "data": {
      "text/html": [
       "<div>\n",
       "<style scoped>\n",
       "    .dataframe tbody tr th:only-of-type {\n",
       "        vertical-align: middle;\n",
       "    }\n",
       "\n",
       "    .dataframe tbody tr th {\n",
       "        vertical-align: top;\n",
       "    }\n",
       "\n",
       "    .dataframe thead th {\n",
       "        text-align: right;\n",
       "    }\n",
       "</style>\n",
       "<table border=\"1\" class=\"dataframe\">\n",
       "  <thead>\n",
       "    <tr style=\"text-align: right;\">\n",
       "      <th>Ticker</th>\n",
       "      <th>A</th>\n",
       "      <th>AAL</th>\n",
       "      <th>AAP</th>\n",
       "      <th>AAPL</th>\n",
       "      <th>ABBV</th>\n",
       "      <th>ABC</th>\n",
       "      <th>ABMD</th>\n",
       "      <th>ABT</th>\n",
       "      <th>ACN</th>\n",
       "      <th>ADBE</th>\n",
       "      <th>...</th>\n",
       "      <th>XLNX</th>\n",
       "      <th>XOM</th>\n",
       "      <th>XRAY</th>\n",
       "      <th>XRX</th>\n",
       "      <th>XYL</th>\n",
       "      <th>YUM</th>\n",
       "      <th>ZBH</th>\n",
       "      <th>ZBRA</th>\n",
       "      <th>ZION</th>\n",
       "      <th>ZTS</th>\n",
       "    </tr>\n",
       "    <tr>\n",
       "      <th>Date</th>\n",
       "      <th></th>\n",
       "      <th></th>\n",
       "      <th></th>\n",
       "      <th></th>\n",
       "      <th></th>\n",
       "      <th></th>\n",
       "      <th></th>\n",
       "      <th></th>\n",
       "      <th></th>\n",
       "      <th></th>\n",
       "      <th></th>\n",
       "      <th></th>\n",
       "      <th></th>\n",
       "      <th></th>\n",
       "      <th></th>\n",
       "      <th></th>\n",
       "      <th></th>\n",
       "      <th></th>\n",
       "      <th></th>\n",
       "      <th></th>\n",
       "      <th></th>\n",
       "    </tr>\n",
       "  </thead>\n",
       "  <tbody>\n",
       "  </tbody>\n",
       "</table>\n",
       "<p>0 rows × 505 columns</p>\n",
       "</div>"
      ],
      "text/plain": [
       "Empty DataFrame\n",
       "Columns: [A, AAL, AAP, AAPL, ABBV, ABC, ABMD, ABT, ACN, ADBE, ADI, ADM, ADP, ADSK, AEE, AEP, AES, AFL, AIG, AIV, AIZ, AJG, AKAM, ALB, ALGN, ALK, ALL, ALLE, ALXN, AMAT, AMCR, AMD, AME, AMGN, AMP, AMT, AMZN, ANET, ANSS, ANTM, AON, AOS, APA, APD, APH, APTV, ARE, ATO, ATVI, AVB, AVGO, AVY, AWK, AXP, AZO, BA, BAC, BAX, BBY, BDX, BEN, BF.B, BIIB, BIO, BK, BKNG, BKR, BLK, BLL, BMY, BR, BRK.B, BSX, BWA, BXP, C, CAG, CAH, CARR, CAT, CB, CBOE, CBRE, CCI, CCL, CDNS, CDW, CE, CERN, CF, CFG, CHD, CHRW, CHTR, CI, CINF, CL, CLX, CMA, CMCSA, ...]\n",
       "Index: []\n",
       "\n",
       "[0 rows x 505 columns]"
      ]
     },
     "execution_count": 24,
     "metadata": {},
     "output_type": "execute_result"
    }
   ],
   "source": [
    "data = data.dropna(axis=1)\n",
    "price = data[\"Close\"]\n",
    "#price = price.iloc[0]\n",
    "price"
   ]
  },
  {
   "cell_type": "markdown",
   "metadata": {},
   "source": [
    "We're left with 459 stocks, which will be good enough for this project."
   ]
  },
  {
   "cell_type": "code",
   "execution_count": 25,
   "metadata": {},
   "outputs": [
    {
     "data": {
      "text/plain": [
       "Index(['A', 'AAL', 'AAP', 'AAPL', 'ABBV', 'ABC', 'ABMD', 'ABT', 'ACN', 'ADBE',\n",
       "       ...\n",
       "       'XLNX', 'XOM', 'XRAY', 'XRX', 'XYL', 'YUM', 'ZBH', 'ZBRA', 'ZION',\n",
       "       'ZTS'],\n",
       "      dtype='object', name='Ticker', length=505)"
      ]
     },
     "execution_count": 25,
     "metadata": {},
     "output_type": "execute_result"
    }
   ],
   "source": [
    "symbol = data[\"Close\"].T\n",
    "symbol = symbol.index\n",
    "symbol"
   ]
  },
  {
   "cell_type": "markdown",
   "metadata": {},
   "source": [
    "## Adding Our Stocks Data to a Pandas DataFrame\n",
    "\n",
    "The next thing we need to do is add our stock's price to a pandas DataFrame. "
   ]
  },
  {
   "cell_type": "code",
   "execution_count": 26,
   "metadata": {},
   "outputs": [
    {
     "ename": "ValueError",
     "evalue": "Expected a one-dimensional object, got a DataFrame with 505 columns instead.",
     "output_type": "error",
     "traceback": [
      "\u001b[0;31m---------------------------------------------------------------------------\u001b[0m",
      "\u001b[0;31mValueError\u001b[0m                                Traceback (most recent call last)",
      "\u001b[0;32m/var/folders/3q/54yj5kx13f71th287k1j3ll80000gn/T/ipykernel_2451/585652413.py\u001b[0m in \u001b[0;36m?\u001b[0;34m()\u001b[0m\n\u001b[1;32m      1\u001b[0m \u001b[0mmy_columns\u001b[0m \u001b[0;34m=\u001b[0m \u001b[0;34m[\u001b[0m\u001b[0;34m\"Number Of Shares To Buy\"\u001b[0m\u001b[0;34m]\u001b[0m\u001b[0;34m\u001b[0m\u001b[0;34m\u001b[0m\u001b[0m\n\u001b[1;32m      2\u001b[0m \u001b[0mfinal_dataframe\u001b[0m \u001b[0;34m=\u001b[0m \u001b[0mpd\u001b[0m\u001b[0;34m.\u001b[0m\u001b[0mDataFrame\u001b[0m\u001b[0;34m(\u001b[0m\u001b[0mcolumns\u001b[0m\u001b[0;34m=\u001b[0m\u001b[0mmy_columns\u001b[0m\u001b[0;34m)\u001b[0m\u001b[0;34m\u001b[0m\u001b[0;34m\u001b[0m\u001b[0m\n\u001b[1;32m      3\u001b[0m \u001b[0mfinal_dataframe\u001b[0m\u001b[0;34m.\u001b[0m\u001b[0minsert\u001b[0m\u001b[0;34m(\u001b[0m\u001b[0mloc\u001b[0m\u001b[0;34m=\u001b[0m\u001b[0;36m0\u001b[0m\u001b[0;34m,\u001b[0m \u001b[0mcolumn\u001b[0m\u001b[0;34m=\u001b[0m\u001b[0;34m\"Ticker\"\u001b[0m\u001b[0;34m,\u001b[0m \u001b[0mvalue\u001b[0m\u001b[0;34m=\u001b[0m\u001b[0msymbol\u001b[0m\u001b[0;34m)\u001b[0m\u001b[0;34m\u001b[0m\u001b[0;34m\u001b[0m\u001b[0m\n\u001b[0;32m----> 4\u001b[0;31m \u001b[0mfinal_dataframe\u001b[0m\u001b[0;34m.\u001b[0m\u001b[0minsert\u001b[0m\u001b[0;34m(\u001b[0m\u001b[0mloc\u001b[0m\u001b[0;34m=\u001b[0m\u001b[0;36m1\u001b[0m\u001b[0;34m,\u001b[0m \u001b[0mcolumn\u001b[0m\u001b[0;34m=\u001b[0m\u001b[0;34m\"Price\"\u001b[0m\u001b[0;34m,\u001b[0m \u001b[0mvalue\u001b[0m\u001b[0;34m=\u001b[0m\u001b[0mprice\u001b[0m\u001b[0;34m)\u001b[0m\u001b[0;34m\u001b[0m\u001b[0;34m\u001b[0m\u001b[0m\n\u001b[0m\u001b[1;32m      5\u001b[0m \u001b[0mfinal_dataframe\u001b[0m\u001b[0;34m\u001b[0m\u001b[0;34m\u001b[0m\u001b[0m\n",
      "\u001b[0;32m~/.local/lib/python3.11/site-packages/pandas/core/frame.py\u001b[0m in \u001b[0;36m?\u001b[0;34m(self, loc, column, value, allow_duplicates)\u001b[0m\n\u001b[1;32m   4933\u001b[0m             \u001b[0;32mraise\u001b[0m \u001b[0mTypeError\u001b[0m\u001b[0;34m(\u001b[0m\u001b[0;34m\"loc must be int\"\u001b[0m\u001b[0;34m)\u001b[0m\u001b[0;34m\u001b[0m\u001b[0;34m\u001b[0m\u001b[0m\n\u001b[1;32m   4934\u001b[0m         \u001b[0;31m# convert non stdlib ints to satisfy typing checks\u001b[0m\u001b[0;34m\u001b[0m\u001b[0;34m\u001b[0m\u001b[0m\n\u001b[1;32m   4935\u001b[0m         \u001b[0mloc\u001b[0m \u001b[0;34m=\u001b[0m \u001b[0mint\u001b[0m\u001b[0;34m(\u001b[0m\u001b[0mloc\u001b[0m\u001b[0;34m)\u001b[0m\u001b[0;34m\u001b[0m\u001b[0;34m\u001b[0m\u001b[0m\n\u001b[1;32m   4936\u001b[0m         \u001b[0;32mif\u001b[0m \u001b[0misinstance\u001b[0m\u001b[0;34m(\u001b[0m\u001b[0mvalue\u001b[0m\u001b[0;34m,\u001b[0m \u001b[0mDataFrame\u001b[0m\u001b[0;34m)\u001b[0m \u001b[0;32mand\u001b[0m \u001b[0mlen\u001b[0m\u001b[0;34m(\u001b[0m\u001b[0mvalue\u001b[0m\u001b[0;34m.\u001b[0m\u001b[0mcolumns\u001b[0m\u001b[0;34m)\u001b[0m \u001b[0;34m>\u001b[0m \u001b[0;36m1\u001b[0m\u001b[0;34m:\u001b[0m\u001b[0;34m\u001b[0m\u001b[0;34m\u001b[0m\u001b[0m\n\u001b[0;32m-> 4937\u001b[0;31m             raise ValueError(\n\u001b[0m\u001b[1;32m   4938\u001b[0m                 \u001b[0;34mf\"Expected a one-dimensional object, got a DataFrame with \"\u001b[0m\u001b[0;34m\u001b[0m\u001b[0;34m\u001b[0m\u001b[0m\n\u001b[1;32m   4939\u001b[0m                 \u001b[0;34mf\"{len(value.columns)} columns instead.\"\u001b[0m\u001b[0;34m\u001b[0m\u001b[0;34m\u001b[0m\u001b[0m\n\u001b[1;32m   4940\u001b[0m             )\n",
      "\u001b[0;31mValueError\u001b[0m: Expected a one-dimensional object, got a DataFrame with 505 columns instead."
     ]
    }
   ],
   "source": [
    "my_columns = [\"Number Of Shares To Buy\"]\n",
    "final_dataframe = pd.DataFrame(columns=my_columns)\n",
    "final_dataframe.insert(loc=0, column=\"Ticker\", value=symbol)\n",
    "final_dataframe.insert(loc=1, column=\"Price\", value=price)\n",
    "final_dataframe"
   ]
  },
  {
   "cell_type": "markdown",
   "metadata": {},
   "source": [
    "Note: this could've been done by just extracting \"Ticker\" and \"Close\" from our data frame and adding a column named \"Number of Shares To Buy\". This however, is an exercise to get more comfortable with data wrangling."
   ]
  },
  {
   "cell_type": "markdown",
   "metadata": {},
   "source": [
    "## Calculating the Number of Shares to Buy\n",
    "\n",
    "As you can see in the DataFrame above, we stil haven't calculated the number of shares of each stock to buy.\n",
    "\n",
    "We'll do that next."
   ]
  },
  {
   "cell_type": "code",
   "execution_count": null,
   "metadata": {},
   "outputs": [],
   "source": [
    "portfolio_size = input(\"Enter the value of your portfolio:\")\n",
    "\n",
    "try:\n",
    "    val = float(portfolio_size)\n",
    "except ValueError:\n",
    "    print(\"Not a number!\")\n",
    "    input(\"Enter the value of your portfolio:\")\n",
    "    val = float(portfolio_size)"
   ]
  },
  {
   "cell_type": "code",
   "execution_count": null,
   "metadata": {},
   "outputs": [
    {
     "data": {
      "text/plain": [
       "'1000'"
      ]
     },
     "execution_count": 8,
     "metadata": {},
     "output_type": "execute_result"
    }
   ],
   "source": [
    "portfolio_size"
   ]
  },
  {
   "cell_type": "code",
   "execution_count": null,
   "metadata": {},
   "outputs": [
    {
     "ename": "NameError",
     "evalue": "name 'final_dataframe' is not defined",
     "output_type": "error",
     "traceback": [
      "\u001b[0;31m---------------------------------------------------------------------------\u001b[0m",
      "\u001b[0;31mNameError\u001b[0m                                 Traceback (most recent call last)",
      "\u001b[1;32m/Users/zigapetelin/Documents/GitHub/Mini-Projects/Quantitative Finance/Equal Weight S&P 500.ipynb Cell 18\u001b[0m line \u001b[0;36m1\n\u001b[0;32m----> <a href='vscode-notebook-cell:/Users/zigapetelin/Documents/GitHub/Mini-Projects/Quantitative%20Finance/Equal%20Weight%20S%26P%20500.ipynb#X36sZmlsZQ%3D%3D?line=0'>1</a>\u001b[0m position_size \u001b[39m=\u001b[39m val\u001b[39m/\u001b[39m\u001b[39mlen\u001b[39m(final_dataframe\u001b[39m.\u001b[39mindex)\n\u001b[1;32m      <a href='vscode-notebook-cell:/Users/zigapetelin/Documents/GitHub/Mini-Projects/Quantitative%20Finance/Equal%20Weight%20S%26P%20500.ipynb#X36sZmlsZQ%3D%3D?line=1'>2</a>\u001b[0m \u001b[39mprint\u001b[39m(position_size)\n",
      "\u001b[0;31mNameError\u001b[0m: name 'final_dataframe' is not defined"
     ]
    }
   ],
   "source": [
    "position_size = val/len(final_dataframe.index)\n",
    "print(position_size)"
   ]
  },
  {
   "cell_type": "markdown",
   "metadata": {},
   "source": [
    "## Formatting Our Excel Output\n",
    "\n",
    "We will be using the XlsxWriter library for Python to create nicely-formatted Excel files.\n",
    "\n",
    "XlsxWriter is an excellent package and offers tons of customization. However, the tradeoff for this is that the library can seem very complicated to new users. Accordingly, this section will be fairly long because I want to do a good job of explaining how XlsxWriter works.\n",
    "\n",
    "### Initializing our XlsxWriter Object"
   ]
  },
  {
   "cell_type": "code",
   "execution_count": null,
   "metadata": {},
   "outputs": [],
   "source": []
  },
  {
   "cell_type": "markdown",
   "metadata": {},
   "source": [
    "### Creating the Formats We'll Need For Our `.xlsx` File\n",
    "\n",
    "Formats include colors, fonts, and also symbols like `%` and `$`. We'll need four main formats for our Excel document:\n",
    "* String format for tickers\n",
    "* \\\\$XX.XX format for stock prices\n",
    "* \\\\$XX,XXX format for market capitalization\n",
    "* Integer format for the number of shares to purchase"
   ]
  },
  {
   "cell_type": "code",
   "execution_count": null,
   "metadata": {},
   "outputs": [],
   "source": []
  },
  {
   "cell_type": "markdown",
   "metadata": {},
   "source": [
    "### Applying the Formats to the Columns of Our `.xlsx` File\n",
    "\n",
    "We can use the `set_column` method applied to the `writer.sheets['Recommended Trades']` object to apply formats to specific columns of our spreadsheets.\n",
    "\n",
    "Here's an example:\n",
    "\n",
    "```python\n",
    "writer.sheets['Recommended Trades'].set_column('B:B', #This tells the method to apply the format to column B\n",
    "                     18, #This tells the method to apply a column width of 18 pixels\n",
    "                     string_template #This applies the format 'string_template' to the column\n",
    "                    )\n",
    "```"
   ]
  },
  {
   "cell_type": "code",
   "execution_count": null,
   "metadata": {},
   "outputs": [],
   "source": []
  },
  {
   "cell_type": "markdown",
   "metadata": {},
   "source": [
    "This code works, but it violates the software principle of \"Don't Repeat Yourself\". \n",
    "\n",
    "Let's simplify this by putting it in 2 loops:"
   ]
  },
  {
   "cell_type": "code",
   "execution_count": null,
   "metadata": {},
   "outputs": [],
   "source": []
  },
  {
   "cell_type": "markdown",
   "metadata": {},
   "source": [
    "## Saving Our Excel Output\n",
    "\n",
    "Saving our Excel file is very easy:"
   ]
  },
  {
   "cell_type": "code",
   "execution_count": null,
   "metadata": {},
   "outputs": [],
   "source": []
  }
 ],
 "metadata": {
  "kernelspec": {
   "display_name": "Python 3",
   "language": "python",
   "name": "python3"
  },
  "language_info": {
   "codemirror_mode": {
    "name": "ipython",
    "version": 3
   },
   "file_extension": ".py",
   "mimetype": "text/x-python",
   "name": "python",
   "nbconvert_exporter": "python",
   "pygments_lexer": "ipython3",
   "version": "3.11.5"
  }
 },
 "nbformat": 4,
 "nbformat_minor": 4
}
